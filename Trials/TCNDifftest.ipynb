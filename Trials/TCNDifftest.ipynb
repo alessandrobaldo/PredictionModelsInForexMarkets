{
 "cells": [
  {
   "cell_type": "code",
   "execution_count": 1,
   "metadata": {},
   "outputs": [],
   "source": [
    "from Scripts.utils import *  \n",
    "import pandas as pd\n",
    "#columns = ['Date','Open','High','Low','Close','Volume']\n",
    "#index = ['Date']\n",
    "#data = generateData('Data/EURUSD/EURUSD_D1.csv', columns, index, indicators = True)\n",
    "columns = ['Date','Open','High','Low','Close','Volume','Yield','PercentageVolume',\n",
    "           'SMA6','EMA6','WMA6','HMA6','SMA20','EMA20','WMA20','HMA20','SMA50','EMA50','WMA50','HMA50',\n",
    "           'SMA100','EMA100','WMA100','HMA100','MACD','CCI','Stochastic Oscillator','RSI','ROC','PPO',\n",
    "           'KST','BOLU','BOLD','BOLM']\n",
    "data = pd.read_csv('DataReady/EURUSD/EURUSD_D1.csv', names = columns, header = 0)"
   ]
  },
  {
   "cell_type": "code",
   "execution_count": 2,
   "metadata": {},
   "outputs": [],
   "source": [
    "toRemove = ['Volume', 'Date','High','Low','Open','Close']\n",
    "df = selectData(data,toRemove)"
   ]
  },
  {
   "cell_type": "code",
   "execution_count": 3,
   "metadata": {},
   "outputs": [],
   "source": [
    "dfDiff = df.diff().dropna(how='any')\n",
    "normDf = normalizeData(dfDiff)\n",
    "images = generateImages(normDf)"
   ]
  },
  {
   "cell_type": "code",
   "execution_count": 4,
   "metadata": {},
   "outputs": [],
   "source": [
    "from sklearn.model_selection import train_test_split\n",
    "train_X, test_X, train_Y, test_Y = train_test_split(images, data['Close'][29:], test_size = 0.2,shuffle = True)\n",
    "train_X, valid_X, train_Y, valid_Y = train_test_split(train_X, train_Y, test_size = 0.1,shuffle = True)"
   ]
  },
  {
   "cell_type": "code",
   "execution_count": 5,
   "metadata": {},
   "outputs": [],
   "source": [
    "train_X = np.array([elem.reshape(28*28,1) for elem in train_X])\n",
    "valid_X = np.array([elem.reshape(28*28,1) for elem in valid_X])\n",
    "test_X = np.array([elem.reshape(28*28,1) for elem in test_X])"
   ]
  },
  {
   "cell_type": "code",
   "execution_count": 6,
   "metadata": {},
   "outputs": [],
   "source": [
    "epochs_set = [30,70,200]\n",
    "batches = [32]\n",
    "learning_rates = [0.0005,0.001,0.01,0.1]\n",
    "num_channels = [2,3,4,5,6,7,8]\n",
    "nb_filters = [25,64,100]"
   ]
  },
  {
   "cell_type": "code",
   "execution_count": 7,
   "metadata": {},
   "outputs": [],
   "source": [
    "combinations = []\n",
    "for epochs in epochs_set:\n",
    "    for batch_size in batches:\n",
    "        for learning_rate in learning_rates:\n",
    "            for num_channel in num_channels:\n",
    "                for nb_filter in nb_filters:\n",
    "                    combinations.append([epochs, batch_size,learning_rate, num_channel, nb_filter])"
   ]
  },
  {
   "cell_type": "code",
   "execution_count": 8,
   "metadata": {},
   "outputs": [
    {
     "name": "stdout",
     "output_type": "stream",
     "text": [
      "[70, 32, 0.1, 8, 100]\n"
     ]
    }
   ],
   "source": [
    "print(combinations[167])"
   ]
  },
  {
   "cell_type": "code",
   "execution_count": null,
   "metadata": {},
   "outputs": [],
   "source": [
    "from Scripts.TCN import *\n",
    "\n",
    "mse_min = 0.0024803249657470256\n",
    "corr_max = 0.9347684037123097\n",
    "\n",
    "best_factor = np.sqrt(mse_min) * (1-corr_max)\n",
    "for comb in combinations[167:]:\n",
    "    best = False\n",
    "    epochs, batch_size,learning_rate, num_channel, nb_filter = comb\n",
    "    predictedPrices, mse, corr = run(train_X, valid_X, test_X, train_Y, valid_Y,test_Y,\n",
    "                                    epochs, batch_size,learning_rate, num_channel, nb_filter, mse_min, corr_max)\n",
    "    print(\"{},{}\".format(mse,corr))\n",
    "    if corr == corr and corr>0:\n",
    "        factor = np.sqrt(mse)*(1-corr)\n",
    "        if factor < best_factor:\n",
    "            mse_min = mse\n",
    "            corr_max = corr\n",
    "            best_factor = factor\n",
    "            best = True\n",
    "            print(\"BEST\")\n",
    "    f = open('Results/resultsTCNdiff.txt','a+')\n",
    "    f.write(\"{},{},{},{},3,{},{},{}, {}\\n\".format(epochs,batch_size,num_channel,nb_filter,learning_rate,mse, corr, best))\n",
    "    f.close()"
   ]
  },
  {
   "cell_type": "code",
   "execution_count": null,
   "metadata": {},
   "outputs": [],
   "source": []
  }
 ],
 "metadata": {
  "kernelspec": {
   "display_name": "Python 3",
   "language": "python",
   "name": "python3"
  },
  "language_info": {
   "codemirror_mode": {
    "name": "ipython",
    "version": 3
   },
   "file_extension": ".py",
   "mimetype": "text/x-python",
   "name": "python",
   "nbconvert_exporter": "python",
   "pygments_lexer": "ipython3",
   "version": "3.5.2"
  }
 },
 "nbformat": 4,
 "nbformat_minor": 2
}
