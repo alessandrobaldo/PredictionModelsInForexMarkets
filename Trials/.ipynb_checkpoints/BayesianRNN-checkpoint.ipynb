{
 "cells": [
  {
   "cell_type": "code",
   "execution_count": 1,
   "metadata": {},
   "outputs": [],
   "source": [
    "from Scripts.utils import *  \n",
    "import pandas as pd\n",
    "\n",
    "columns = ['Date','Open','High','Low','Close','Volume','Yield','PercentageVolume',\n",
    "           'SMA6','EMA6','WMA6','HMA6','SMA20','EMA20','WMA20','HMA20','SMA50','EMA50','WMA50','HMA50',\n",
    "           'SMA100','EMA100','WMA100','HMA100','MACD','CCI','Stochastic Oscillator','RSI','ROC','PPO',\n",
    "           'KST','BOLU','BOLD','BOLM']\n",
    "data = pd.read_csv('DataReady/EURUSD/EURUSD_D1.csv', names = columns, header = 0)"
   ]
  },
  {
   "cell_type": "code",
   "execution_count": 2,
   "metadata": {},
   "outputs": [],
   "source": [
    "toRemove = ['Volume', 'Date','High','Low','Open','Close']\n",
    "df = selectData(data,toRemove)"
   ]
  },
  {
   "cell_type": "code",
   "execution_count": 3,
   "metadata": {},
   "outputs": [],
   "source": [
    "normDf = normalizeData(df)\n",
    "images = generateImages(normDf)\n",
    "images = np.array(images)"
   ]
  },
  {
   "cell_type": "code",
   "execution_count": 4,
   "metadata": {},
   "outputs": [],
   "source": [
    "from sklearn.model_selection import train_test_split\n",
    "train_X, test_X, train_Y, test_Y = train_test_split(images, data['Close'][28:], test_size = 0.2,shuffle = False)\n",
    "train_X, valid_X, train_Y, valid_Y = train_test_split(train_X, train_Y, test_size = 0.1,shuffle = False)"
   ]
  },
  {
   "cell_type": "code",
   "execution_count": 5,
   "metadata": {},
   "outputs": [],
   "source": [
    "train_X = train_X.reshape(train_X.shape[0],28,28).astype(np.float32)\n",
    "valid_X = valid_X.reshape(valid_X.shape[0],28,28).astype(np.float32)\n",
    "test_X = test_X.reshape(test_X.shape[0],28,28).astype(np.float32)"
   ]
  },
  {
   "cell_type": "code",
   "execution_count": 6,
   "metadata": {},
   "outputs": [],
   "source": [
    "import torch \n",
    "train_X, valid_X, test_X = torch.from_numpy(train_X).type(torch.FloatTensor), torch.from_numpy(valid_X).type(torch.FloatTensor), torch.from_numpy(test_X).type(torch.FloatTensor)\n",
    "train_Y, valid_Y, test_Y = torch.from_numpy(np.array(train_Y)).type(torch.FloatTensor), torch.from_numpy(np.array(valid_Y)).type(torch.FloatTensor), torch.from_numpy(np.array(test_Y)).type(torch.FloatTensor)"
   ]
  },
  {
   "cell_type": "code",
   "execution_count": 7,
   "metadata": {},
   "outputs": [],
   "source": [
    "from Scripts.BayesianRNN import *\n",
    "\n",
    "model = BayesianRNN()\n",
    "loss_fn = torch.nn.MSELoss(reduction='sum')\n",
    "loss_module = LossModule(model,(train_X, train_Y), loss_fn)"
   ]
  },
  {
   "cell_type": "code",
   "execution_count": null,
   "metadata": {},
   "outputs": [],
   "source": [
    "SGHMC = SGHMCSampler(loss_module, num_burn_in_steps=5000, lr=0.003, keep_every = 100, mdecay=0.01)\n",
    "SGHMC.sample(nsamples=1000)\n",
    "sampled_weights = SGHMC.sampled_weights"
   ]
  }
 ],
 "metadata": {
  "kernelspec": {
   "display_name": "Python 3",
   "language": "python",
   "name": "python3"
  },
  "language_info": {
   "codemirror_mode": {
    "name": "ipython",
    "version": 3
   },
   "file_extension": ".py",
   "mimetype": "text/x-python",
   "name": "python",
   "nbconvert_exporter": "python",
   "pygments_lexer": "ipython3",
   "version": "3.5.2"
  }
 },
 "nbformat": 4,
 "nbformat_minor": 2
}
