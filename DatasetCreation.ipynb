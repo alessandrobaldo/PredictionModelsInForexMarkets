{
 "cells": [
  {
   "cell_type": "code",
   "execution_count": 1,
   "metadata": {},
   "outputs": [
    {
     "name": "stdout",
     "output_type": "stream",
     "text": [
      "['EURGBP_H1.csv', 'EURGBP_M30.csv', 'EURGBP_M1.csv', 'EURGBP_M15.csv', 'EURGBP_D1.csv', 'EURGBP_H4.csv', 'EURGBP_M5.csv', 'USDJPY_M30.csv', 'USDJPY_D1.csv', 'USDJPY_H4.csv', 'USDJPY_M15.csv', 'USDJPY_M1.csv', 'USDJPY_H1.csv', 'USDJPY_M5.csv', 'AUDUSD_M5.csv', 'AUDUSD_D1.csv', 'AUDUSD_H4.csv', 'AUDUSD_H1.csv', 'AUDUSD_M15.csv', 'AUDUSD_M30.csv', 'AUDUSD_M1.csv', 'AUDCAD_H1.csv', 'AUDCAD_H4.csv', 'AUDCAD_M5.csv', 'AUDCAD_D1.csv', 'AUDCAD_M15.csv', 'AUDCAD_M30.csv', 'AUDCAD_M1.csv', 'EURUSD_M5.csv', 'EURUSD_M15.csv', 'EURUSD_H4.csv', 'EURUSD_H1.csv', 'EURUSD_M1.csv', 'EURUSD_D1.csv', 'EURUSD_M30.csv', 'USDCAD_M5.csv', 'USDCAD_M30.csv', 'USDCAD_H4.csv', 'USDCAD_M15.csv', 'USDCAD_H1.csv', 'USDCAD_D1.csv', 'USDCAD_M1.csv', 'EURCAD_M15.csv', 'EURCAD_D1.csv', 'EURCAD_M1.csv', 'EURCAD_H1.csv', 'EURCAD_M5.csv', 'EURCAD_H4.csv', 'EURCAD_M30.csv', 'GBPUSD_M1.csv', 'GBPUSD_M30.csv', 'GBPUSD_H4.csv', 'GBPUSD_M5.csv', 'GBPUSD_H1.csv', 'GBPUSD_D1.csv', 'GBPUSD_M15.csv', 'EURCHF_M5.csv', 'EURCHF_M15.csv', 'EURCHF_H1.csv', 'EURCHF_H4.csv', 'EURCHF_D1.csv', 'EURCHF_M30.csv', 'EURCHF_M1.csv', 'EURJPY_H4.csv', 'EURJPY_M1.csv', 'EURJPY_H1.csv', 'EURJPY_D1.csv', 'EURJPY_M5.csv', 'EURJPY_M15.csv', 'EURJPY_M30.csv', 'EURAUD_M30.csv', 'EURAUD_H1.csv', 'EURAUD_M1.csv', 'EURAUD_M5.csv', 'EURAUD_M15.csv', 'EURAUD_D1.csv', 'EURAUD_H4.csv']\n"
     ]
    }
   ],
   "source": [
    "import os\n",
    "import pandas as pd\n",
    "from Scripts.utils import *\n",
    "\n",
    "processed = []\n",
    "directory1 = os.listdir('DataReady')\n",
    "for folder in directory1:\n",
    "    directory2 = os.listdir('DataReady/{}'.format(folder))\n",
    "    for filename in directory2:\n",
    "         if filename.endswith('csv'):\n",
    "                processed.append(filename)\n",
    "print(processed)\n",
    "directory1 = os.listdir('Data')\n",
    "for folder in directory1:\n",
    "    directory2 = os.listdir('Data/{}'.format(folder))\n",
    "    for filename in directory2:\n",
    "        if filename.endswith('csv') and filename not in processed:\n",
    "            print('Data/{}/{}'.format(folder,filename))\n",
    "            columns = ['Date','Open','High','Low','Close','Volume']\n",
    "            index = ['Date']\n",
    "            data = generateData('Data/{}/{}'.format(folder,filename), columns, index, indicators = True)\n",
    "            data.to_csv('DataReady/{}/{}'.format(folder,filename))"
   ]
  },
  {
   "cell_type": "code",
   "execution_count": null,
   "metadata": {},
   "outputs": [],
   "source": []
  },
  {
   "cell_type": "code",
   "execution_count": null,
   "metadata": {},
   "outputs": [],
   "source": []
  }
 ],
 "metadata": {
  "kernelspec": {
   "display_name": "Python 3",
   "language": "python",
   "name": "python3"
  },
  "language_info": {
   "codemirror_mode": {
    "name": "ipython",
    "version": 3
   },
   "file_extension": ".py",
   "mimetype": "text/x-python",
   "name": "python",
   "nbconvert_exporter": "python",
   "pygments_lexer": "ipython3",
   "version": "3.5.2"
  }
 },
 "nbformat": 4,
 "nbformat_minor": 2
}
